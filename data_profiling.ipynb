{
 "cells": [
  {
   "cell_type": "markdown",
   "metadata": {},
   "source": [
    "# **Data Profiling Notebook**"
   ]
  },
  {
   "cell_type": "markdown",
   "metadata": {},
   "source": [
    "## **Initial Steps**"
   ]
  },
  {
   "cell_type": "markdown",
   "metadata": {},
   "source": [
    "### Import the required libraries"
   ]
  },
  {
   "cell_type": "code",
   "execution_count": null,
   "metadata": {},
   "outputs": [],
   "source": [
    "import pandas as pd\n",
    "from numpy import log\n",
    "from pandas import Series\n",
    "from scipy.stats import norm, expon, lognorm\n",
    "from seaborn import distplot, heatmap\n",
    "from matplotlib.pyplot import show, subplots, figure, Axes, title\n",
    "from utils.ds_charts import bar_chart, get_variable_types, choose_grid, multiple_bar_chart, multiple_line_chart, HEIGHT"
   ]
  },
  {
   "cell_type": "markdown",
   "metadata": {},
   "source": [
    "### Read the data\n",
    "Uncomment the data you want to analyse"
   ]
  },
  {
   "cell_type": "code",
   "execution_count": null,
   "metadata": {},
   "outputs": [],
   "source": [
    "df = pd.read_csv(\"data/air_quality_tabular.csv\", delimiter=\",\", na_values=None, parse_dates=[\"date\"], infer_datetime_format=True) \n",
    "#df = pd.read_csv(\"data/air_quality_timeseries.csv\", delimiter=\",\", na_values=None, parse_dates=[\"DATE\"], infer_datetime_format=True)\n",
    "#df = pd.read_csv(\"data/NYC_collisions_tabular.csv\", delimiter=\",\", na_values=None, parse_dates={\"CRASH_DATETIME\": [\"CRASH_DATE\", \"CRASH_TIME\"]}, infer_datetime_format=True)\n",
    "#df = pd.read_csv(\"data/NYC_collisions_timeseries.csv\", delimiter=\",\", na_values=None, parse_dates=[\"timestamp\"], infer_datetime_format=True)\n",
    "df"
   ]
  },
  {
   "cell_type": "markdown",
   "metadata": {},
   "source": [
    "## **Data Dimmensionality**"
   ]
  },
  {
   "cell_type": "markdown",
   "metadata": {},
   "source": [
    "### Data shape"
   ]
  },
  {
   "cell_type": "code",
   "execution_count": null,
   "metadata": {},
   "outputs": [],
   "source": [
    "df.shape"
   ]
  },
  {
   "cell_type": "markdown",
   "metadata": {},
   "source": [
    "### Number of records vs number of variables"
   ]
  },
  {
   "cell_type": "code",
   "execution_count": null,
   "metadata": {},
   "outputs": [],
   "source": [
    "values = {'Nr Records': df.shape[0], 'Nr Variables': df.shape[1]}\n",
    "bar_chart(list(values.keys()), list(values.values()), title='Nr of Records vs Nr of Variables')\n",
    "show()"
   ]
  },
  {
   "cell_type": "markdown",
   "metadata": {},
   "source": [
    "### Variable types"
   ]
  },
  {
   "cell_type": "code",
   "execution_count": null,
   "metadata": {},
   "outputs": [],
   "source": [
    "df.dtypes"
   ]
  },
  {
   "cell_type": "markdown",
   "metadata": {},
   "source": [
    "### Convert object types to category type"
   ]
  },
  {
   "cell_type": "code",
   "execution_count": null,
   "metadata": {},
   "outputs": [],
   "source": [
    "cat_vars = df.select_dtypes(include='object')\n",
    "df[cat_vars.columns] = df.select_dtypes(['object']).apply(lambda x: x.astype('category'))\n",
    "df.dtypes"
   ]
  },
  {
   "cell_type": "markdown",
   "metadata": {},
   "source": [
    "### Number of variables per type"
   ]
  },
  {
   "cell_type": "code",
   "execution_count": null,
   "metadata": {},
   "outputs": [],
   "source": [
    "variable_types = get_variable_types(df)\n",
    "counts = {}\n",
    "for tp in variable_types.keys():\n",
    "    counts[tp] = len(variable_types[tp])\n",
    "bar_chart(list(counts.keys()), list(counts.values()), title='Nr of Variables per Type')\n",
    "show()"
   ]
  },
  {
   "cell_type": "markdown",
   "metadata": {},
   "source": [
    "### Number of missing values per variable"
   ]
  },
  {
   "cell_type": "code",
   "execution_count": null,
   "metadata": {},
   "outputs": [],
   "source": [
    "mv = {}\n",
    "for var in df:\n",
    "    nr = df[var].isna().sum()\n",
    "    if nr > 0:\n",
    "        mv[var] = nr\n",
    "bar_chart(list(mv.keys()), list(mv.values()), title='Nr of Missing Values per Variable',\n",
    "            xlabel='Variables', ylabel='Nr Missing Values', rotation=True)\n",
    "show()"
   ]
  },
  {
   "cell_type": "markdown",
   "metadata": {},
   "source": [
    "## **Data Distribution**"
   ]
  },
  {
   "cell_type": "markdown",
   "metadata": {},
   "source": [
    "### Numeric variables summary"
   ]
  },
  {
   "cell_type": "code",
   "execution_count": null,
   "metadata": {},
   "outputs": [],
   "source": [
    "df.describe()"
   ]
  },
  {
   "cell_type": "markdown",
   "metadata": {},
   "source": [
    "### Global numeric variables boxplot"
   ]
  },
  {
   "cell_type": "code",
   "execution_count": null,
   "metadata": {},
   "outputs": [],
   "source": [
    "df.boxplot(rot=45)\n",
    "show()"
   ]
  },
  {
   "cell_type": "markdown",
   "metadata": {},
   "source": [
    "### Single numeric variables boxplot"
   ]
  },
  {
   "cell_type": "code",
   "execution_count": null,
   "metadata": {},
   "outputs": [],
   "source": [
    "numeric_vars = get_variable_types(df)['Numeric']\n",
    "if [] == numeric_vars:\n",
    "    raise ValueError('There are no numeric variables.')\n",
    "rows, cols = choose_grid(len(numeric_vars))\n",
    "fig, axs = subplots(rows, cols, figsize=(cols*HEIGHT, rows*HEIGHT), squeeze=False)\n",
    "i, j = 0, 0\n",
    "for n in range(len(numeric_vars)):\n",
    "    axs[i, j].set_title('Boxplot for %s'%numeric_vars[n])\n",
    "    axs[i, j].boxplot(df[numeric_vars[n]].dropna().values)\n",
    "    i, j = (i + 1, 0) if (n+1) % cols == 0 else (i, j + 1)\n",
    "show()"
   ]
  },
  {
   "cell_type": "markdown",
   "metadata": {},
   "source": [
    "### Number of outliers per variable"
   ]
  },
  {
   "cell_type": "code",
   "execution_count": null,
   "metadata": {},
   "outputs": [],
   "source": [
    "NR_STDEV: int = 2\n",
    "numeric_vars = get_variable_types(df)['Numeric']\n",
    "if [] == numeric_vars:\n",
    "    raise ValueError('There are no numeric variables.')\n",
    "outliers_iqr = []\n",
    "outliers_stdev = []\n",
    "summary5 = df.describe(include='number')\n",
    "for var in numeric_vars:\n",
    "    iqr = 1.5 * (summary5[var]['75%'] - summary5[var]['25%'])\n",
    "    outliers_iqr += [\n",
    "        df[df[var] > summary5[var]['75%']  + iqr].count()[var] +\n",
    "        df[df[var] < summary5[var]['25%']  - iqr].count()[var]]\n",
    "    std = NR_STDEV * summary5[var]['std']\n",
    "    outliers_stdev += [\n",
    "        df[df[var] > summary5[var]['mean'] + std].count()[var] +\n",
    "        df[df[var] < summary5[var]['mean'] - std].count()[var]]\n",
    "outliers = {'iqr': outliers_iqr, 'stdev': outliers_stdev}\n",
    "figure(figsize=(12, HEIGHT))\n",
    "multiple_bar_chart(numeric_vars, outliers, title='Nr of Outliers per Variable', xlabel='Variables', ylabel='Nr Outliers', percentage=False)\n",
    "show()"
   ]
  },
  {
   "cell_type": "markdown",
   "metadata": {},
   "source": [
    "### Basic variable distribution"
   ]
  },
  {
   "cell_type": "code",
   "execution_count": null,
   "metadata": {},
   "outputs": [],
   "source": [
    "numeric_vars = get_variable_types(df)['Numeric']\n",
    "if [] == numeric_vars:\n",
    "    raise ValueError('There are no numeric variables.')\n",
    "fig, axs = subplots(rows, cols, figsize=(cols*HEIGHT, rows*HEIGHT), squeeze=False)\n",
    "i, j = 0, 0\n",
    "for n in range(len(numeric_vars)):\n",
    "    axs[i, j].set_title('Histogram for %s'%numeric_vars[n])\n",
    "    axs[i, j].set_xlabel(numeric_vars[n])\n",
    "    axs[i, j].set_ylabel(\"nr records\")\n",
    "    axs[i, j].hist(df[numeric_vars[n]].dropna().values, 'auto')\n",
    "    i, j = (i + 1, 0) if (n+1) % cols == 0 else (i, j + 1)\n",
    "show()"
   ]
  },
  {
   "cell_type": "markdown",
   "metadata": {},
   "source": [
    "### Advanced variable distribution"
   ]
  },
  {
   "cell_type": "code",
   "execution_count": null,
   "metadata": {},
   "outputs": [],
   "source": [
    "numeric_vars = get_variable_types(df)['Numeric']\n",
    "if [] == numeric_vars:\n",
    "    raise ValueError('There are no numeric variables.')\n",
    "fig, axs = subplots(rows, cols, figsize=(cols*HEIGHT, rows*HEIGHT), squeeze=False)\n",
    "i, j = 0, 0\n",
    "for n in range(len(numeric_vars)):\n",
    "    axs[i, j].set_title('Histogram with trend for %s'%numeric_vars[n])\n",
    "    distplot(df[numeric_vars[n]].dropna().values, norm_hist=True, ax=axs[i, j], axlabel=numeric_vars[n])\n",
    "    i, j = (i + 1, 0) if (n+1) % cols == 0 else (i, j + 1)\n",
    "show()"
   ]
  },
  {
   "cell_type": "markdown",
   "metadata": {},
   "source": [
    "### Normal, exponential and logarithmic distributions"
   ]
  },
  {
   "cell_type": "code",
   "execution_count": null,
   "metadata": {},
   "outputs": [],
   "source": [
    "def compute_known_distributions(x_values: list) -> dict:\n",
    "    distributions = dict()\n",
    "    # Gaussian\n",
    "    mean, sigma = norm.fit(x_values)\n",
    "    distributions['Normal(%.1f,%.2f)'%(mean,sigma)] = norm.pdf(x_values, mean, sigma)\n",
    "    # Exponential\n",
    "    loc, scale = expon.fit(x_values)\n",
    "    distributions['Exp(%.2f)'%(1/scale)] = expon.pdf(x_values, loc, scale)\n",
    "    # LogNorm\n",
    "    sigma, loc, scale = lognorm.fit(x_values)\n",
    "    distributions['LogNor(%.1f,%.2f)'%(log(scale),sigma)] = lognorm.pdf(x_values, sigma, loc, scale)\n",
    "    return distributions\n",
    "\n",
    "def histogram_with_distributions(ax: Axes, series: Series, var: str):\n",
    "    values = series.sort_values().values\n",
    "    ax.hist(values, 20, density=True)\n",
    "    distributions = compute_known_distributions(values)\n",
    "    multiple_line_chart(values, distributions, ax=ax, title='Best fit for %s'%var, xlabel=var, ylabel='')\n",
    "\n",
    "numeric_vars = get_variable_types(df)['Numeric']\n",
    "if [] == numeric_vars:\n",
    "    raise ValueError('There are no numeric variables.')\n",
    "fig, axs = subplots(rows, cols, figsize=(cols*HEIGHT, rows*HEIGHT), squeeze=False)\n",
    "i, j = 0, 0\n",
    "for n in range(len(numeric_vars)):\n",
    "    histogram_with_distributions(axs[i, j], df[numeric_vars[n]].dropna(), numeric_vars[n])\n",
    "    i, j = (i + 1, 0) if (n+1) % cols == 0 else (i, j + 1)\n",
    "show()"
   ]
  },
  {
   "cell_type": "markdown",
   "metadata": {},
   "source": [
    "### Symbolic variables"
   ]
  },
  {
   "cell_type": "code",
   "execution_count": null,
   "metadata": {},
   "outputs": [],
   "source": [
    "symbolic_vars = get_variable_types(df)['Symbolic']\n",
    "if [] == symbolic_vars:\n",
    "    raise ValueError('There are no symbolic variables.')\n",
    "\n",
    "rows, cols = choose_grid(len(symbolic_vars))\n",
    "fig, axs = subplots(rows, cols, figsize=(cols*HEIGHT, rows*HEIGHT), squeeze=False)\n",
    "i, j = 0, 0\n",
    "for n in range(len(symbolic_vars)):\n",
    "    counts = df[symbolic_vars[n]].value_counts()\n",
    "    bar_chart(counts.index.to_list(), counts.values, ax=axs[i, j], title='Histogram for %s'%symbolic_vars[n], xlabel=symbolic_vars[n], ylabel='nr records', percentage=False)\n",
    "    i, j = (i + 1, 0) if (n+1) % cols == 0 else (i, j + 1)\n",
    "show()"
   ]
  },
  {
   "cell_type": "markdown",
   "metadata": {},
   "source": [
    "## **Data Granularity**"
   ]
  },
  {
   "cell_type": "markdown",
   "metadata": {},
   "source": [
    "### Numeric values"
   ]
  },
  {
   "cell_type": "code",
   "execution_count": null,
   "metadata": {},
   "outputs": [],
   "source": [
    "variables = get_variable_types(df)['Numeric']\n",
    "if not variables:\n",
    "    raise ValueError('There are no numeric variables.')\n",
    "rows = len(variables)\n",
    "bins = (10, 100, 1000)\n",
    "cols = len(bins)\n",
    "fig, axs = subplots(rows, cols, figsize=(cols * HEIGHT, rows * HEIGHT), squeeze=False)\n",
    "for i in range(rows):\n",
    "    for j in range(cols):\n",
    "        axs[i, j].set_title('Histogram for %s %d bins' % (variables[i], bins[j]))\n",
    "        axs[i, j].set_xlabel(variables[i])\n",
    "        axs[i, j].set_ylabel('Nr Records')\n",
    "        axs[i, j].hist(df[variables[i]].values, bins=bins[j])\n",
    "show()"
   ]
  },
  {
   "cell_type": "markdown",
   "metadata": {},
   "source": [
    "### Date values"
   ]
  },
  {
   "cell_type": "code",
   "execution_count": null,
   "metadata": {},
   "outputs": [],
   "source": [
    "variables = get_variable_types(df)['Date']\n",
    "if not variables:\n",
    "    raise ValueError('There are no date variables.')\n",
    "rows = len(variables)\n",
    "bins = (10, 100, 1000)\n",
    "cols = len(bins)\n",
    "fig, axs = subplots(rows, cols, figsize=(cols * HEIGHT, rows * HEIGHT), squeeze=False)\n",
    "for i in range(rows):\n",
    "    for j in range(cols):\n",
    "        axs[i, j].set_title('Histogram for %s %d bins' % (variables[i], bins[j]))\n",
    "        axs[i, j].set_xlabel(variables[i])\n",
    "        axs[i, j].set_ylabel('Nr records')\n",
    "        axs[i, j].hist(df[variables[i]].values, bins=bins[j])\n",
    "show()"
   ]
  },
  {
   "cell_type": "markdown",
   "metadata": {},
   "source": [
    "## **Data Sparcity**"
   ]
  },
  {
   "cell_type": "markdown",
   "metadata": {},
   "source": [
    "### Scatter-plots for numeric values"
   ]
  },
  {
   "cell_type": "code",
   "execution_count": null,
   "metadata": {},
   "outputs": [],
   "source": [
    "numeric_vars = get_variable_types(df)['Numeric']\n",
    "if [] == numeric_vars:\n",
    "    raise ValueError('There are no numeric variables.')\n",
    "rows, cols = len(numeric_vars)-1, len(numeric_vars)-1\n",
    "fig, axs = subplots(rows, cols, figsize=(cols*HEIGHT, rows*HEIGHT), squeeze=False)\n",
    "for i in range(len(numeric_vars)):\n",
    "    var1 = numeric_vars[i]\n",
    "    for j in range(i+1, len(numeric_vars)):\n",
    "        var2 = numeric_vars[j]\n",
    "        axs[i, j-1].set_title(\"%s x %s\"%(var1,var2))\n",
    "        axs[i, j-1].set_xlabel(var1)\n",
    "        axs[i, j-1].set_ylabel(var2)\n",
    "        axs[i, j-1].scatter(df[var1], df[var2])\n",
    "show()"
   ]
  },
  {
   "cell_type": "markdown",
   "metadata": {},
   "source": [
    "### Scatter-plots for symbolic values"
   ]
  },
  {
   "cell_type": "code",
   "execution_count": null,
   "metadata": {},
   "outputs": [],
   "source": [
    "symbolic_vars = get_variable_types(df)['Symbolic']\n",
    "if [] == symbolic_vars:\n",
    "    raise ValueError('There are no symbolic variables.')\n",
    "rows, cols = len(symbolic_vars)-1, len(symbolic_vars)-1\n",
    "fig, axs = subplots(rows, cols, figsize=(cols*HEIGHT, rows*HEIGHT), squeeze=False)\n",
    "for i in range(len(symbolic_vars)):\n",
    "    var1 = symbolic_vars[i]\n",
    "    for j in range(i+1, len(symbolic_vars)):\n",
    "        var2 = symbolic_vars[j]\n",
    "        axs[i, j-1].set_title(\"%s x %s\"%(var1,var2))\n",
    "        axs[i, j-1].set_xlabel(var1)\n",
    "        axs[i, j-1].set_ylabel(var2)\n",
    "        axs[i, j-1].scatter(df[var1], df[var2])\n",
    "show()"
   ]
  },
  {
   "cell_type": "markdown",
   "metadata": {},
   "source": [
    "### Correlation analysis"
   ]
  },
  {
   "cell_type": "code",
   "execution_count": null,
   "metadata": {},
   "outputs": [],
   "source": [
    "corr_mtx = abs(df.corr())\n",
    "print(corr_mtx)"
   ]
  },
  {
   "cell_type": "markdown",
   "metadata": {},
   "source": [
    "### Correlation plot"
   ]
  },
  {
   "cell_type": "code",
   "execution_count": null,
   "metadata": {},
   "outputs": [],
   "source": [
    "fig = figure(figsize=[12, 12])\n",
    "heatmap(abs(corr_mtx), xticklabels=corr_mtx.columns, yticklabels=corr_mtx.columns, annot=True, cmap='Blues')\n",
    "title('Correlation analysis')\n",
    "show()"
   ]
  }
 ],
 "metadata": {
  "interpreter": {
   "hash": "f6259670b94164ac26b02c1333c2426c8d59703690780816389a3366eda1a268"
  },
  "kernelspec": {
   "display_name": "Python 3.9.7 64-bit",
   "language": "python",
   "name": "python3"
  },
  "language_info": {
   "codemirror_mode": {
    "name": "ipython",
    "version": 3
   },
   "file_extension": ".py",
   "mimetype": "text/x-python",
   "name": "python",
   "nbconvert_exporter": "python",
   "pygments_lexer": "ipython3",
   "version": "3.10.0"
  },
  "orig_nbformat": 4
 },
 "nbformat": 4,
 "nbformat_minor": 2
}
